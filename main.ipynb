{
 "cells": [
  {
   "cell_type": "code",
   "execution_count": 1,
   "metadata": {},
   "outputs": [],
   "source": [
    "# pip install -U scikit-fuzzy\n",
    "# pip install skfuzzy"
   ]
  },
  {
   "cell_type": "code",
   "execution_count": 2,
   "metadata": {},
   "outputs": [],
   "source": [
    "import time\n",
    "import numpy as np\n",
    "import pandas as pd\n",
    "import random\n",
    "import shap\n",
    "import pickle\n",
    "\n",
    "from sklearn.cluster import KMeans\n",
    "\n",
    "import skfuzzy as fuzz\n",
    "from scipy import linalg as la\n",
    "from sklearn.metrics import accuracy_score\n",
    "from sklearn.base import MultiOutputMixin, BaseEstimator\n",
    "\n",
    "import skfuzzy as fuzz\n",
    "\n",
    "import warnings\n",
    "warnings.filterwarnings('ignore')\n",
    "warnings.simplefilter('ignore')"
   ]
  },
  {
   "cell_type": "code",
   "execution_count": 3,
   "metadata": {},
   "outputs": [
    {
     "data": {
      "text/html": [
       "<style>\n",
       ".output_wrapper, .output {\n",
       "    height:auto !important;\n",
       "    max-height:10000px;  /* your desired max-height here */\n",
       "}\n",
       ".output_scroll {\n",
       "    box-shadow:none !important;\n",
       "    webkit-box-shadow:none !important;\n",
       "}\n",
       "</style>\n"
      ],
      "text/plain": [
       "<IPython.core.display.HTML object>"
      ]
     },
     "metadata": {},
     "output_type": "display_data"
    }
   ],
   "source": [
    "%%html\n",
    "<style>\n",
    ".output_wrapper, .output {\n",
    "    height:auto !important;\n",
    "    max-height:10000px;  /* your desired max-height here */\n",
    "}\n",
    ".output_scroll {\n",
    "    box-shadow:none !important;\n",
    "    webkit-box-shadow:none !important;\n",
    "}\n",
    "</style>"
   ]
  },
  {
   "cell_type": "code",
   "execution_count": 4,
   "metadata": {},
   "outputs": [],
   "source": [
    "datasets = ['ecoli', 'glass', 'heart-statlog', 'iris', 'liver-disorders', 'pima', 'vehicle', \n",
    "            'wine-quality-red', 'yeast', 'vertebra-column-2c', 'saheart', 'new-thyroid',\n",
    "            'echocardiogram', 'appendicitis', 'hayes-roth']"
   ]
  },
  {
   "cell_type": "code",
   "execution_count": 5,
   "metadata": {},
   "outputs": [],
   "source": [
    "# Local imports\n",
    "from FuzzyCMeansWrapper import FuzzyCMeans\n",
    "from KMeansfunctions import f_importance\n",
    "from miscellaneous import featuresorting\n",
    "from plotting import resultplot\n",
    "from KMeansfunctions import kmeans_performance"
   ]
  },
  {
   "cell_type": "code",
   "execution_count": 7,
   "metadata": {},
   "outputs": [
    {
     "name": "stderr",
     "output_type": "stream",
     "text": [
      "Using 336 background data samples could cause slower run times. Consider using shap.sample(data, K) or shap.kmeans(data, K) to summarize the background as K samples.\n"
     ]
    },
    {
     "data": {
      "application/vnd.jupyter.widget-view+json": {
       "model_id": "f6e2132a78cf4e629b412852829ddc80",
       "version_major": 2,
       "version_minor": 0
      },
      "text/plain": [
       "  0%|          | 0/5 [00:00<?, ?it/s]"
      ]
     },
     "metadata": {},
     "output_type": "display_data"
    },
    {
     "name": "stderr",
     "output_type": "stream",
     "text": [
      "Using 336 background data samples could cause slower run times. Consider using shap.sample(data, K) or shap.kmeans(data, K) to summarize the background as K samples.\n"
     ]
    },
    {
     "data": {
      "application/vnd.jupyter.widget-view+json": {
       "model_id": "3c1a79ce380747d99d6e4b7e3068dab6",
       "version_major": 2,
       "version_minor": 0
      },
      "text/plain": [
       "  0%|          | 0/5 [00:00<?, ?it/s]"
      ]
     },
     "metadata": {},
     "output_type": "display_data"
    },
    {
     "name": "stdout",
     "output_type": "stream",
     "text": [
      "[5 5 5 1 0 7 0 0 0 5 5 0 0 5 0 5 0 5 5 0 0 5 1 0 0 0 5 7 0 0 0 0 7 0 0 0 0\n",
      " 1 0 0 0 0 5 7 1 0 0 5 0 0 0 5 0 0 7 7 7 0 7 0 7 0 0 5 5 0 0 1 0 0 0 0 5 0\n",
      " 0 5 0 0 5 0 0 0 0 0 0 0 0 7 0 7 0 0 7 0 0 1 7 1 1 1 5 0 5 0 0 5 1 0 1 5 7\n",
      " 0 0 5 0 0 0 1 0 7 0 0 0 0 1 0 0 0 0 0 0 0 0 5 0 0 0 5 0 0 0 0 0 0 0 6 4 0\n",
      " 5 6 4 6 4 1 4 4 6 6 7 7 6 4 1 6 0 6 6 6 5 6 5 6 4 5 5 4 6 4 6 0 6 4 3 0 5\n",
      " 4 6 4 4 1 4 6 4 4 6 6 5 4 4 4 6 4 4 4 7 6 6 5 4 6 6 6 1 0 0 0 0 7 1 6 1 6\n",
      " 3 3 6 6 6 6 1 6 6 6 6 6 6 7 6 6 6 5 1 6 1 6 6 6 7 4 6 1 6 3 6 1 6 6 7 7 6\n",
      " 1 1 1 1 1 5 1 1 1 1 1 1 1 1 7 3 1 1 1 1 3 3 3 3 3 1 0 1 1 1 1 5 1 1 5 1 7\n",
      " 1 1 1 1 0 0 1 1 1 7 7 7 1 1 7 1 1 7 4 5 1 5 1 1 1 7 1 1 1 0 1 1 1 1 0 1 1\n",
      " 5 1 1]\n",
      "[5 5 5 1 0 7 0 0 0 5 5 0 0 5 0 5 0 5 5 0 0 5 1 0 0 0 5 7 0 0 0 0 7 0 0 0 0\n",
      " 1 0 0 0 0 5 7 1 0 0 5 0 0 0 5 0 0 7 7 7 0 7 0 7 0 0 5 5 0 0 1 0 0 0 0 5 0\n",
      " 0 5 0 0 5 0 0 0 0 0 0 0 0 7 0 7 0 0 7 0 0 1 7 1 1 1 5 0 5 0 0 5 1 0 1 5 7\n",
      " 0 0 5 0 0 0 1 0 7 0 0 0 0 1 0 0 0 0 0 0 0 0 5 0 0 0 5 0 0 0 0 0 0 0 6 4 0\n",
      " 5 6 4 6 4 1 4 4 6 6 7 7 6 4 1 6 0 6 6 6 5 6 5 6 4 5 5 4 6 4 6 0 6 4 5 0 5\n",
      " 4 6 4 4 1 4 6 4 4 6 6 5 4 4 4 6 4 4 4 7 6 6 5 4 6 6 6 1 0 0 0 0 7 1 6 1 6\n",
      " 7 4 6 6 6 6 1 6 6 6 6 6 6 7 6 6 6 5 1 6 1 6 6 6 7 4 6 1 6 6 6 1 6 6 7 7 6\n",
      " 1 1 1 1 1 5 1 1 1 1 1 1 1 1 7 0 1 1 1 1 1 1 1 1 1 1 0 1 1 1 1 5 1 1 5 1 7\n",
      " 1 1 1 1 0 0 1 1 1 7 7 7 1 1 7 1 1 7 4 5 1 5 1 1 1 7 1 1 1 0 1 1 1 1 0 1 1\n",
      " 5 1 1]\n",
      "[5 5 5 0 5 0 5 0 0 5 5 0 0 5 0 5 0 5 5 1 1 5 0 5 0 0 5 7 0 0 0 0 7 5 7 0 0\n",
      " 1 0 0 0 0 5 7 0 0 0 5 0 0 0 5 0 7 7 7 0 0 7 0 7 0 0 5 5 0 0 0 0 0 5 1 5 1\n",
      " 0 5 0 0 5 0 5 0 0 1 0 0 0 0 7 7 0 0 7 0 7 1 7 1 7 0 5 1 5 1 0 5 1 0 1 5 7\n",
      " 0 0 5 0 1 0 1 1 7 5 0 0 5 0 0 0 0 0 0 0 0 0 5 0 0 0 5 0 0 0 0 0 1 0 6 6 1\n",
      " 5 6 6 6 6 1 1 5 6 6 7 7 6 6 1 6 1 6 6 6 5 6 5 6 6 5 5 6 6 6 6 1 6 5 5 7 5\n",
      " 6 6 6 6 0 0 6 6 6 6 6 5 6 6 4 6 6 6 6 7 6 6 5 6 6 6 6 1 0 7 1 0 7 1 6 1 6\n",
      " 7 6 6 6 6 6 0 6 6 6 6 6 6 7 6 6 0 5 1 6 1 6 6 6 7 7 6 1 4 6 6 1 6 6 7 7 0\n",
      " 1 1 1 1 1 5 1 1 1 1 1 1 1 1 7 1 1 1 1 1 1 1 1 1 1 0 1 1 1 1 7 5 1 1 5 1 7\n",
      " 7 7 1 1 0 1 1 1 1 7 7 7 1 1 7 1 1 7 6 5 1 5 1 1 1 7 1 1 1 0 1 1 1 1 1 1 1\n",
      " 5 1 7]\n",
      "[5 5 5 0 5 0 5 0 0 5 5 0 0 5 0 5 0 5 5 1 0 5 0 5 0 0 5 7 0 0 0 0 7 5 7 0 0\n",
      " 0 0 0 0 0 5 7 0 0 0 5 0 0 0 5 0 7 7 7 0 0 7 0 7 0 0 5 5 0 0 1 0 0 5 0 5 0\n",
      " 0 5 0 0 5 0 5 0 0 1 1 0 0 0 7 7 0 0 7 0 7 1 7 0 7 0 5 1 5 0 0 5 0 0 0 5 7\n",
      " 0 0 5 0 0 0 0 0 7 5 0 0 0 0 0 0 0 0 0 0 0 0 5 0 0 0 5 0 0 0 0 0 1 0 0 0 0\n",
      " 5 1 0 0 0 0 1 5 0 0 7 7 0 7 0 1 7 1 1 1 5 0 5 0 0 5 5 0 1 1 0 1 1 5 5 7 5\n",
      " 0 1 0 0 0 0 1 0 1 0 1 5 1 0 0 1 0 0 1 7 1 0 5 0 1 0 1 7 0 7 0 0 7 1 1 1 0\n",
      " 7 0 0 0 0 0 0 5 0 5 0 0 0 7 0 1 0 5 0 0 0 1 0 0 7 7 0 1 5 1 0 1 1 1 7 7 0\n",
      " 1 1 1 1 1 5 1 1 1 1 1 1 1 1 7 1 1 1 1 1 7 0 0 1 0 0 1 1 1 1 7 5 1 1 5 1 7\n",
      " 7 7 1 1 0 1 1 1 1 7 7 7 1 1 7 1 1 7 1 5 1 5 1 1 1 7 1 1 1 0 1 0 1 1 1 1 1\n",
      " 5 1 7]\n",
      "[0 0 0 0 0 0 0 0 0 0 0 0 0 0 0 0 0 0 0 0 0 0 0 0 0 0 0 7 0 0 0 0 7 0 7 0 0\n",
      " 0 0 0 0 0 0 7 0 0 0 0 0 0 0 0 0 0 7 7 0 0 7 0 7 0 0 0 0 0 0 0 0 0 7 0 0 0\n",
      " 0 0 0 0 0 0 0 0 0 0 0 0 0 0 7 7 0 0 7 0 7 0 7 0 7 0 0 0 0 0 0 0 0 7 0 0 7\n",
      " 0 0 0 0 0 0 0 0 7 0 0 0 0 0 0 0 0 0 0 0 0 0 0 0 0 0 0 0 0 0 0 0 0 0 0 0 0\n",
      " 0 0 0 0 0 0 0 0 0 0 7 7 0 7 0 0 7 0 0 0 0 0 0 0 0 0 0 0 0 0 0 0 0 0 0 7 0\n",
      " 0 0 0 0 0 0 0 0 0 0 0 0 0 0 0 0 0 0 0 7 0 0 0 0 0 0 0 0 0 0 0 0 7 0 0 0 0\n",
      " 7 0 0 0 0 0 0 0 0 0 0 0 0 7 0 0 0 0 0 0 0 0 0 0 7 7 0 0 0 0 0 0 0 0 7 7 0\n",
      " 2 0 0 0 0 0 2 2 2 0 2 0 0 0 7 0 0 2 0 0 0 0 0 0 0 0 0 7 0 0 7 0 0 0 0 0 7\n",
      " 7 7 0 0 0 0 0 0 0 7 7 7 0 0 7 0 0 7 0 0 0 0 0 0 0 7 0 0 0 0 0 0 0 0 0 0 0\n",
      " 0 0 7]\n",
      "[0 0 0 0 0 0 0 0 0 0 0 0 0 0 0 0 0 0 0 0 0 0 0 0 0 0 0 0 0 0 0 0 0 0 0 0 0\n",
      " 0 0 0 0 0 0 0 0 0 0 0 0 0 0 0 0 0 0 0 0 0 0 0 0 0 0 0 0 0 0 0 0 0 0 0 0 0\n",
      " 0 0 0 0 0 0 0 0 0 0 0 0 0 0 0 0 0 0 0 0 0 0 0 0 0 0 0 0 0 0 0 0 0 0 0 0 0\n",
      " 0 0 0 0 0 0 0 0 0 0 0 0 0 0 0 0 0 0 0 0 0 0 0 0 0 0 0 0 0 0 0 0 0 0 0 0 0\n",
      " 0 0 0 0 0 0 0 0 0 0 0 0 0 0 0 0 0 0 0 0 0 0 0 0 0 0 0 0 0 0 0 0 0 0 0 0 0\n",
      " 0 0 0 0 0 0 0 0 0 0 0 0 0 0 0 0 0 0 0 0 0 0 0 0 0 0 0 0 0 0 0 0 0 0 0 0 0\n",
      " 0 0 0 0 0 0 0 0 0 0 0 0 0 0 0 0 0 0 0 0 0 0 0 0 0 0 0 0 0 0 0 0 0 0 0 0 0\n",
      " 0 0 0 0 0 0 0 0 0 0 0 0 0 0 0 0 0 0 0 0 0 0 0 0 0 0 0 0 0 0 0 0 0 0 0 0 0\n",
      " 0 0 0 0 0 0 0 0 0 0 0 0 0 0 0 0 0 0 0 0 0 0 0 0 0 0 0 0 0 0 0 0 0 0 0 0 0\n",
      " 0 0 0]\n",
      "[0 0 0 0 0 0 0 0 0 0 0 0 0 0 0 0 0 0 0 0 0 0 0 0 0 0 0 0 0 0 0 0 0 0 0 0 0\n",
      " 0 0 0 0 0 0 0 0 0 0 0 0 0 0 0 0 0 0 0 0 0 0 0 0 0 0 0 0 0 0 0 0 0 0 0 0 0\n",
      " 0 0 0 0 0 0 0 0 0 0 0 0 0 0 0 0 0 0 0 0 0 0 0 0 0 0 0 0 0 0 0 0 0 0 0 0 0\n",
      " 0 0 0 0 0 0 0 0 0 0 0 0 0 0 0 0 0 0 0 0 0 0 0 0 0 0 0 0 0 0 0 0 0 0 0 0 0\n",
      " 0 0 0 0 0 0 0 0 0 0 0 0 0 0 0 0 0 0 0 0 0 0 0 0 0 0 0 0 0 0 0 0 0 0 0 0 0\n",
      " 0 0 0 0 0 0 0 0 0 0 0 0 0 0 0 0 0 0 0 0 0 0 0 0 0 0 0 0 0 0 0 0 0 0 0 0 0\n",
      " 0 0 0 0 0 0 0 0 0 0 0 0 0 0 0 0 0 0 0 0 0 0 0 0 0 0 0 0 0 0 0 0 0 0 0 0 0\n",
      " 0 0 0 0 0 0 0 0 0 0 0 0 0 0 0 0 0 0 0 0 0 0 0 0 0 0 0 0 0 0 0 0 0 0 0 0 0\n",
      " 0 0 0 0 0 0 0 0 0 0 0 0 0 0 0 0 0 0 0 0 0 0 0 0 0 0 0 0 0 0 0 0 0 0 0 0 0\n",
      " 0 0 0]\n",
      "[2 0 2 1 0 7 0 0 0 2 2 0 0 2 0 0 0 0 0 2 0 2 2 0 0 0 0 7 0 0 2 0 7 0 0 0 0\n",
      " 2 0 0 0 0 0 7 2 0 4 0 2 0 0 2 0 0 7 7 7 0 7 0 7 2 0 0 2 4 0 0 0 2 0 2 0 2\n",
      " 0 2 2 0 2 0 0 0 0 0 0 0 0 7 0 7 0 0 7 0 0 2 7 2 7 2 2 0 2 0 0 0 0 0 2 2 7\n",
      " 0 2 0 2 2 0 2 0 7 0 0 0 0 2 0 0 0 0 0 0 0 0 0 0 0 0 0 0 0 0 0 0 4 0 6 4 1\n",
      " 4 6 4 6 4 1 4 4 6 6 7 6 2 4 1 6 1 6 6 6 6 6 4 6 4 6 2 4 6 4 6 2 6 4 3 0 6\n",
      " 4 6 4 0 6 4 6 4 4 6 2 6 4 4 4 2 4 4 4 4 6 6 4 4 6 6 6 1 1 4 0 0 7 6 2 1 6\n",
      " 3 3 6 6 6 6 1 6 2 6 6 2 6 7 6 6 6 6 1 6 1 6 6 6 7 4 6 1 6 3 6 1 6 6 7 7 6\n",
      " 2 1 2 2 1 1 1 1 1 1 1 2 1 2 7 3 1 1 1 2 3 3 3 3 3 1 0 7 1 1 7 1 1 2 7 1 7\n",
      " 7 7 1 6 0 0 2 1 1 7 7 7 1 1 7 1 1 7 4 1 1 2 2 1 2 7 1 1 7 2 1 1 2 1 0 1 1\n",
      " 2 1 7]\n",
      "[2 0 2 1 0 7 0 0 0 2 2 0 0 2 0 0 0 0 0 0 0 2 2 0 0 0 0 7 0 0 2 0 7 0 0 0 0\n",
      " 2 0 0 0 0 0 7 2 0 0 0 2 0 0 0 0 0 7 7 7 0 7 0 7 2 0 0 2 0 0 1 0 2 0 2 0 2\n",
      " 0 2 2 0 2 0 0 0 0 0 0 0 0 7 0 7 0 0 7 0 0 2 7 2 7 2 2 0 2 0 0 0 0 0 2 2 7\n",
      " 0 2 0 2 2 0 2 0 7 0 0 0 0 2 0 0 0 0 0 0 0 0 0 0 0 0 0 0 0 0 0 0 4 0 6 4 4\n",
      " 4 6 4 6 4 6 4 4 6 6 7 7 2 4 1 6 4 6 6 6 6 6 4 6 4 6 2 4 6 4 6 2 6 4 3 0 6\n",
      " 4 6 4 0 6 4 6 4 4 6 2 1 4 4 4 2 4 4 4 7 6 6 4 4 6 6 6 4 4 4 4 0 7 6 2 1 6\n",
      " 3 3 6 6 6 6 6 6 2 6 1 2 6 7 6 6 1 6 6 6 6 6 6 6 7 4 1 6 6 3 6 6 6 6 7 7 6\n",
      " 2 1 2 2 1 1 1 1 1 1 1 2 1 2 7 3 2 1 1 2 3 3 3 3 3 1 0 7 1 1 7 1 1 2 7 1 7\n",
      " 7 7 1 1 0 0 2 1 1 7 7 7 1 7 7 1 1 7 4 1 2 2 2 1 2 7 1 1 7 2 2 2 2 1 0 6 2\n",
      " 2 1 7]\n",
      "[0 0 1 1 0 7 0 0 0 0 0 0 0 0 0 0 0 0 0 0 0 0 0 0 0 0 0 7 0 0 1 0 7 0 0 0 0\n",
      " 1 0 0 0 0 0 7 1 0 0 0 0 0 0 0 0 0 7 7 7 0 7 0 7 0 0 0 0 0 0 0 0 0 0 0 0 0\n",
      " 0 0 0 0 0 0 0 0 0 0 0 0 0 7 0 7 0 0 7 0 0 1 7 7 7 1 0 0 0 0 0 0 0 0 0 0 7\n",
      " 0 0 0 0 0 0 1 0 7 0 0 0 0 1 0 0 0 0 0 0 0 0 0 0 0 0 0 0 0 0 0 0 0 0 1 0 0\n",
      " 0 0 0 1 0 1 0 0 1 1 7 7 0 0 1 0 0 1 1 0 1 0 0 1 0 0 1 0 1 0 1 0 1 0 3 0 1\n",
      " 0 1 0 0 1 0 1 0 0 1 1 1 0 0 0 1 0 0 0 7 1 0 0 0 1 1 1 0 0 0 0 0 7 1 1 1 1\n",
      " 3 3 1 1 1 1 1 1 1 1 1 1 1 7 1 1 1 1 1 1 1 1 1 0 7 0 1 1 1 3 1 1 1 1 7 7 1\n",
      " 1 1 1 1 1 1 1 1 1 1 1 1 1 1 7 3 1 1 1 1 3 3 3 3 3 1 0 7 1 1 7 1 1 1 7 7 7\n",
      " 7 7 1 1 0 0 1 1 1 7 7 7 1 7 7 1 1 7 0 1 1 1 1 1 1 7 1 1 7 0 1 1 1 1 0 1 1\n",
      " 1 1 7]\n",
      "[0 0 0 0 0 0 0 0 0 0 0 0 0 0 0 0 0 0 0 0 0 0 0 0 0 0 0 7 0 0 0 0 7 0 7 0 0\n",
      " 0 0 0 0 0 0 7 0 0 0 0 0 0 0 0 0 0 7 7 0 0 7 0 7 0 0 0 0 0 0 0 0 0 7 0 0 0\n",
      " 0 0 0 0 0 0 0 0 0 0 0 0 0 0 7 7 0 0 7 0 7 0 7 0 7 0 0 0 0 0 0 0 0 7 0 0 7\n",
      " 0 0 0 0 0 0 0 0 7 0 0 0 0 0 0 0 0 0 0 0 0 0 0 0 0 0 0 0 0 0 0 0 0 0 0 0 0\n",
      " 0 0 0 0 0 0 0 0 0 0 7 7 0 7 0 0 7 0 0 0 0 0 0 0 0 0 0 0 0 0 0 0 0 0 3 7 0\n",
      " 0 0 0 0 0 0 0 0 0 0 0 0 0 0 0 0 0 0 0 7 0 0 0 0 0 0 0 0 0 0 0 0 7 0 0 0 0\n",
      " 3 3 0 0 0 0 0 0 0 0 0 0 0 7 0 0 0 0 0 0 0 0 0 0 7 7 0 0 0 3 0 0 0 0 7 7 0\n",
      " 2 0 0 0 0 0 2 2 2 0 2 0 0 0 7 3 0 2 0 0 3 3 3 3 3 0 0 7 0 0 7 0 0 0 0 0 7\n",
      " 7 7 0 0 0 0 0 0 0 7 7 7 0 0 7 0 0 7 0 0 0 0 0 0 0 7 0 0 0 0 0 0 0 0 0 0 0\n",
      " 0 0 7]\n",
      "[0 0 0 0 0 0 0 0 0 0 0 0 0 0 0 0 0 0 0 0 0 0 0 0 0 0 0 0 0 0 0 0 0 0 0 0 0\n",
      " 0 0 0 0 0 0 0 0 0 0 0 0 0 0 0 0 0 0 0 0 0 0 0 0 0 0 0 0 0 0 0 0 0 0 0 0 0\n",
      " 0 0 0 0 0 0 0 0 0 0 0 0 0 0 0 0 0 0 0 0 0 0 0 0 0 0 0 0 0 0 0 0 0 0 0 0 0\n",
      " 0 0 0 0 0 0 0 0 0 0 0 0 0 0 0 0 0 0 0 0 0 0 0 0 0 0 0 0 0 0 0 0 0 0 0 0 0\n",
      " 0 0 0 0 0 0 0 0 0 0 0 0 0 0 0 0 0 0 0 0 0 0 0 0 0 0 0 0 0 0 0 0 0 0 3 0 0\n",
      " 0 0 0 0 0 0 0 0 0 0 0 0 0 0 0 0 0 0 0 0 0 0 0 0 0 0 0 0 0 0 0 0 0 0 0 0 0\n",
      " 3 3 0 0 0 0 0 0 0 0 0 0 0 0 0 0 0 0 0 0 0 0 0 0 0 0 0 0 0 3 0 0 0 0 0 0 0\n",
      " 0 0 0 0 0 0 0 0 0 0 0 0 0 0 0 3 0 0 0 0 3 3 3 3 3 0 0 0 0 0 0 0 0 0 0 0 0\n",
      " 0 0 0 0 0 0 0 0 0 0 0 0 0 0 0 0 0 0 0 0 0 0 0 0 0 0 0 0 0 0 0 0 0 0 0 0 0\n",
      " 0 0 0]\n",
      "[0 0 0 0 0 0 0 0 0 0 0 0 0 0 0 0 0 0 0 0 0 0 0 0 0 0 0 0 0 0 0 0 0 0 0 0 0\n",
      " 0 0 0 0 0 0 0 0 0 0 0 0 0 0 0 0 0 0 0 0 0 0 0 0 0 0 0 0 0 0 0 0 0 0 0 0 0\n",
      " 0 0 0 0 0 0 0 0 0 0 0 0 0 0 0 0 0 0 0 0 0 0 0 0 0 0 0 0 0 0 0 0 0 0 0 0 0\n",
      " 0 0 0 0 0 0 0 0 0 0 0 0 0 0 0 0 0 0 0 0 0 0 0 0 0 0 0 0 0 0 0 0 0 0 0 0 0\n",
      " 0 0 0 0 0 0 0 0 0 0 0 0 0 0 0 0 0 0 0 0 0 0 0 0 0 0 0 0 0 0 0 0 0 0 0 0 0\n",
      " 0 0 0 0 0 0 0 0 0 0 0 0 0 0 0 0 0 0 0 0 0 0 0 0 0 0 0 0 0 0 0 0 0 0 0 0 0\n",
      " 0 0 0 0 0 0 0 0 0 0 0 0 0 0 0 0 0 0 0 0 0 0 0 0 0 0 0 0 0 0 0 0 0 0 0 0 0\n",
      " 0 0 0 0 0 0 0 0 0 0 0 0 0 0 0 0 0 0 0 0 0 0 0 0 0 0 0 0 0 0 0 0 0 0 0 0 0\n",
      " 0 0 0 0 0 0 0 0 0 0 0 0 0 0 0 0 0 0 0 0 0 0 0 0 0 0 0 0 0 0 0 0 0 0 0 0 0\n",
      " 0 0 0]\n",
      "[0 0 0 0 0 0 0 0 0 0 0 0 0 0 0 0 0 0 0 0 0 0 0 0 0 0 0 0 0 0 0 0 0 0 0 0 0\n",
      " 0 0 0 0 0 0 0 0 0 0 0 0 0 0 0 0 0 0 0 0 0 0 0 0 0 0 0 0 0 0 0 0 0 0 0 0 0\n",
      " 0 0 0 0 0 0 0 0 0 0 0 0 0 0 0 0 0 0 0 0 0 0 0 0 0 0 0 0 0 0 0 0 0 0 0 0 0\n",
      " 0 0 0 0 0 0 0 0 0 0 0 0 0 0 0 0 0 0 0 0 0 0 0 0 0 0 0 0 0 0 0 0 0 0 0 0 0\n",
      " 0 0 0 0 0 0 0 0 0 0 0 0 0 0 0 0 0 0 0 0 0 0 0 0 0 0 0 0 0 0 0 0 0 0 0 0 0\n",
      " 0 0 0 0 0 0 0 0 0 0 0 0 0 0 0 0 0 0 0 0 0 0 0 0 0 0 0 0 0 0 0 0 0 0 0 0 0\n",
      " 0 0 0 0 0 0 0 0 0 0 0 0 0 0 0 0 0 0 0 0 0 0 0 0 0 0 0 0 0 0 0 0 0 0 0 0 0\n",
      " 0 0 0 0 0 0 0 0 0 0 0 0 0 0 0 0 0 0 0 0 0 0 0 0 0 0 0 0 0 0 0 0 0 0 0 0 0\n",
      " 0 0 0 0 0 0 0 0 0 0 0 0 0 0 0 0 0 0 0 0 0 0 0 0 0 0 0 0 0 0 0 0 0 0 0 0 0\n",
      " 0 0 0]\n"
     ]
    },
    {
     "name": "stderr",
     "output_type": "stream",
     "text": [
      "Using 214 background data samples could cause slower run times. Consider using shap.sample(data, K) or shap.kmeans(data, K) to summarize the background as K samples.\n"
     ]
    },
    {
     "data": {
      "application/vnd.jupyter.widget-view+json": {
       "model_id": "527f60bdb0254b12b6214c6f3d3e3588",
       "version_major": 2,
       "version_minor": 0
      },
      "text/plain": [
       "  0%|          | 0/5 [00:00<?, ?it/s]"
      ]
     },
     "metadata": {},
     "output_type": "display_data"
    },
    {
     "name": "stderr",
     "output_type": "stream",
     "text": [
      "Using 214 background data samples could cause slower run times. Consider using shap.sample(data, K) or shap.kmeans(data, K) to summarize the background as K samples.\n"
     ]
    },
    {
     "data": {
      "application/vnd.jupyter.widget-view+json": {
       "model_id": "88ba53f0892348b6811a87802425cadc",
       "version_major": 2,
       "version_minor": 0
      },
      "text/plain": [
       "  0%|          | 0/5 [00:00<?, ?it/s]"
      ]
     },
     "metadata": {},
     "output_type": "display_data"
    },
    {
     "ename": "KeyboardInterrupt",
     "evalue": "",
     "output_type": "error",
     "traceback": [
      "\u001b[1;31m---------------------------------------------------------------------------\u001b[0m",
      "\u001b[1;31mKeyboardInterrupt\u001b[0m                         Traceback (most recent call last)",
      "\u001b[1;32m~\\AppData\\Local\\Temp\\ipykernel_12980\\1272779180.py\u001b[0m in \u001b[0;36m<module>\u001b[1;34m\u001b[0m\n\u001b[0;32m     34\u001b[0m     \u001b[1;31m# average shap values KMeans\u001b[0m\u001b[1;33m\u001b[0m\u001b[1;33m\u001b[0m\u001b[0m\n\u001b[0;32m     35\u001b[0m     \u001b[0mfcm_ex\u001b[0m \u001b[1;33m=\u001b[0m \u001b[0mshap\u001b[0m\u001b[1;33m.\u001b[0m\u001b[0mKernelExplainer\u001b[0m\u001b[1;33m(\u001b[0m\u001b[0mkmeans\u001b[0m\u001b[1;33m.\u001b[0m\u001b[0mpredict\u001b[0m\u001b[1;33m,\u001b[0m \u001b[0mdf\u001b[0m\u001b[1;33m)\u001b[0m\u001b[1;33m\u001b[0m\u001b[1;33m\u001b[0m\u001b[0m\n\u001b[1;32m---> 36\u001b[1;33m     \u001b[0mshap_values\u001b[0m \u001b[1;33m=\u001b[0m \u001b[0mfcm_ex\u001b[0m\u001b[1;33m.\u001b[0m\u001b[0mshap_values\u001b[0m\u001b[1;33m(\u001b[0m\u001b[0mshapdf\u001b[0m\u001b[1;33m)\u001b[0m\u001b[1;33m\u001b[0m\u001b[1;33m\u001b[0m\u001b[0m\n\u001b[0m\u001b[0;32m     37\u001b[0m     \u001b[0mave_shap_values_kmeans\u001b[0m \u001b[1;33m=\u001b[0m \u001b[0mnp\u001b[0m\u001b[1;33m.\u001b[0m\u001b[0mzeros\u001b[0m\u001b[1;33m(\u001b[0m\u001b[0mshap_values\u001b[0m\u001b[1;33m.\u001b[0m\u001b[0mshape\u001b[0m\u001b[1;33m[\u001b[0m\u001b[1;36m1\u001b[0m\u001b[1;33m]\u001b[0m\u001b[1;33m)\u001b[0m\u001b[1;33m\u001b[0m\u001b[1;33m\u001b[0m\u001b[0m\n\u001b[0;32m     38\u001b[0m     \u001b[0mave_shap_values_kmeans\u001b[0m \u001b[1;33m+=\u001b[0m \u001b[0mnp\u001b[0m\u001b[1;33m.\u001b[0m\u001b[0mmean\u001b[0m\u001b[1;33m(\u001b[0m\u001b[0mnp\u001b[0m\u001b[1;33m.\u001b[0m\u001b[0mabsolute\u001b[0m\u001b[1;33m(\u001b[0m\u001b[0mshap_values\u001b[0m\u001b[1;33m)\u001b[0m\u001b[1;33m,\u001b[0m \u001b[0maxis\u001b[0m\u001b[1;33m=\u001b[0m\u001b[1;36m0\u001b[0m\u001b[1;33m)\u001b[0m\u001b[1;33m\u001b[0m\u001b[1;33m\u001b[0m\u001b[0m\n",
      "\u001b[1;32mc:\\Users\\niels\\anaconda3\\lib\\site-packages\\shap\\explainers\\_kernel.py\u001b[0m in \u001b[0;36mshap_values\u001b[1;34m(self, X, **kwargs)\u001b[0m\n\u001b[0;32m    188\u001b[0m                 \u001b[1;32mif\u001b[0m \u001b[0mself\u001b[0m\u001b[1;33m.\u001b[0m\u001b[0mkeep_index\u001b[0m\u001b[1;33m:\u001b[0m\u001b[1;33m\u001b[0m\u001b[1;33m\u001b[0m\u001b[0m\n\u001b[0;32m    189\u001b[0m                     \u001b[0mdata\u001b[0m \u001b[1;33m=\u001b[0m \u001b[0mconvert_to_instance_with_index\u001b[0m\u001b[1;33m(\u001b[0m\u001b[0mdata\u001b[0m\u001b[1;33m,\u001b[0m \u001b[0mcolumn_name\u001b[0m\u001b[1;33m,\u001b[0m \u001b[0mindex_value\u001b[0m\u001b[1;33m[\u001b[0m\u001b[0mi\u001b[0m\u001b[1;33m:\u001b[0m\u001b[0mi\u001b[0m \u001b[1;33m+\u001b[0m \u001b[1;36m1\u001b[0m\u001b[1;33m]\u001b[0m\u001b[1;33m,\u001b[0m \u001b[0mindex_name\u001b[0m\u001b[1;33m)\u001b[0m\u001b[1;33m\u001b[0m\u001b[1;33m\u001b[0m\u001b[0m\n\u001b[1;32m--> 190\u001b[1;33m                 \u001b[0mexplanations\u001b[0m\u001b[1;33m.\u001b[0m\u001b[0mappend\u001b[0m\u001b[1;33m(\u001b[0m\u001b[0mself\u001b[0m\u001b[1;33m.\u001b[0m\u001b[0mexplain\u001b[0m\u001b[1;33m(\u001b[0m\u001b[0mdata\u001b[0m\u001b[1;33m,\u001b[0m \u001b[1;33m**\u001b[0m\u001b[0mkwargs\u001b[0m\u001b[1;33m)\u001b[0m\u001b[1;33m)\u001b[0m\u001b[1;33m\u001b[0m\u001b[1;33m\u001b[0m\u001b[0m\n\u001b[0m\u001b[0;32m    191\u001b[0m                 \u001b[1;32mif\u001b[0m \u001b[0mkwargs\u001b[0m\u001b[1;33m.\u001b[0m\u001b[0mget\u001b[0m\u001b[1;33m(\u001b[0m\u001b[1;34m\"gc_collect\"\u001b[0m\u001b[1;33m,\u001b[0m \u001b[1;32mFalse\u001b[0m\u001b[1;33m)\u001b[0m\u001b[1;33m:\u001b[0m\u001b[1;33m\u001b[0m\u001b[1;33m\u001b[0m\u001b[0m\n\u001b[0;32m    192\u001b[0m                     \u001b[0mgc\u001b[0m\u001b[1;33m.\u001b[0m\u001b[0mcollect\u001b[0m\u001b[1;33m(\u001b[0m\u001b[1;33m)\u001b[0m\u001b[1;33m\u001b[0m\u001b[1;33m\u001b[0m\u001b[0m\n",
      "\u001b[1;32mc:\\Users\\niels\\anaconda3\\lib\\site-packages\\shap\\explainers\\_kernel.py\u001b[0m in \u001b[0;36mexplain\u001b[1;34m(self, incoming_instance, **kwargs)\u001b[0m\n\u001b[0;32m    380\u001b[0m \u001b[1;33m\u001b[0m\u001b[0m\n\u001b[0;32m    381\u001b[0m             \u001b[1;31m# execute the model on the synthetic samples we have created\u001b[0m\u001b[1;33m\u001b[0m\u001b[1;33m\u001b[0m\u001b[0m\n\u001b[1;32m--> 382\u001b[1;33m             \u001b[0mself\u001b[0m\u001b[1;33m.\u001b[0m\u001b[0mrun\u001b[0m\u001b[1;33m(\u001b[0m\u001b[1;33m)\u001b[0m\u001b[1;33m\u001b[0m\u001b[1;33m\u001b[0m\u001b[0m\n\u001b[0m\u001b[0;32m    383\u001b[0m \u001b[1;33m\u001b[0m\u001b[0m\n\u001b[0;32m    384\u001b[0m             \u001b[1;31m# solve then expand the feature importance (Shapley value) vector to contain the non-varying features\u001b[0m\u001b[1;33m\u001b[0m\u001b[1;33m\u001b[0m\u001b[0m\n",
      "\u001b[1;32mc:\\Users\\niels\\anaconda3\\lib\\site-packages\\shap\\explainers\\_kernel.py\u001b[0m in \u001b[0;36mrun\u001b[1;34m(self)\u001b[0m\n\u001b[0;32m    530\u001b[0m                 \u001b[0meyVal\u001b[0m \u001b[1;33m+=\u001b[0m \u001b[0mself\u001b[0m\u001b[1;33m.\u001b[0m\u001b[0my\u001b[0m\u001b[1;33m[\u001b[0m\u001b[0mi\u001b[0m \u001b[1;33m*\u001b[0m \u001b[0mself\u001b[0m\u001b[1;33m.\u001b[0m\u001b[0mN\u001b[0m \u001b[1;33m+\u001b[0m \u001b[0mj\u001b[0m\u001b[1;33m,\u001b[0m \u001b[1;33m:\u001b[0m\u001b[1;33m]\u001b[0m \u001b[1;33m*\u001b[0m \u001b[0mself\u001b[0m\u001b[1;33m.\u001b[0m\u001b[0mdata\u001b[0m\u001b[1;33m.\u001b[0m\u001b[0mweights\u001b[0m\u001b[1;33m[\u001b[0m\u001b[0mj\u001b[0m\u001b[1;33m]\u001b[0m\u001b[1;33m\u001b[0m\u001b[1;33m\u001b[0m\u001b[0m\n\u001b[0;32m    531\u001b[0m \u001b[1;33m\u001b[0m\u001b[0m\n\u001b[1;32m--> 532\u001b[1;33m             \u001b[0mself\u001b[0m\u001b[1;33m.\u001b[0m\u001b[0mey\u001b[0m\u001b[1;33m[\u001b[0m\u001b[0mi\u001b[0m\u001b[1;33m,\u001b[0m \u001b[1;33m:\u001b[0m\u001b[1;33m]\u001b[0m \u001b[1;33m=\u001b[0m \u001b[0meyVal\u001b[0m\u001b[1;33m\u001b[0m\u001b[1;33m\u001b[0m\u001b[0m\n\u001b[0m\u001b[0;32m    533\u001b[0m             \u001b[0mself\u001b[0m\u001b[1;33m.\u001b[0m\u001b[0mnsamplesRun\u001b[0m \u001b[1;33m+=\u001b[0m \u001b[1;36m1\u001b[0m\u001b[1;33m\u001b[0m\u001b[1;33m\u001b[0m\u001b[0m\n\u001b[0;32m    534\u001b[0m \u001b[1;33m\u001b[0m\u001b[0m\n",
      "\u001b[1;31mKeyboardInterrupt\u001b[0m: "
     ]
    }
   ],
   "source": [
    "shap_max_size = 5\n",
    "from sklearn.cluster import KMeans\n",
    "import numpy as np\n",
    "\n",
    "for dataset in datasets:\n",
    "    \n",
    "    # loading the current dataset\n",
    "    df = pd.read_csv('./datasets/'+dataset+'.csv')\n",
    "    n_centers = len(np.unique(df.values[:,-1]))\n",
    "    df = df.drop(df.columns[-1], axis='columns')\n",
    "\n",
    "    #Kmeans clusters calculated\n",
    "    kmeans = KMeans(init=\"random\", n_clusters=n_centers, n_init=10, max_iter=1000, random_state=0)\n",
    "    kmeans.fit(df.values)\n",
    "    y_true_kmeans = kmeans.predict(df.values)\n",
    "\n",
    "    #FuzzyCMeans clusters calculated\n",
    "    fcm = FuzzyCMeans(n_centers, seed=0).fit(df.values)\n",
    "    y_true_fcm = np.argmax(fcm.predict(df.values), axis=1)\n",
    "\n",
    "    # sample shap if above value\n",
    "    if df.shape[0] > shap_max_size:\n",
    "        shapdf = shap.sample(df, shap_max_size)\n",
    "    else:\n",
    "        shapdf = df\n",
    "\n",
    "    # average shap values FCM\n",
    "    fcm_ex = shap.KernelExplainer(fcm.predict, df)\n",
    "    shap_values = fcm_ex.shap_values(shapdf)\n",
    "    ave_shap_values_fcm = np.zeros(shap_values[0].shape[1])\n",
    "    for shap_i in shap_values:\n",
    "        ave_shap_values_fcm += np.mean(np.absolute(shap_i), axis=0)\n",
    "\n",
    "    # average shap values KMeans\n",
    "    fcm_ex = shap.KernelExplainer(kmeans.predict, df)\n",
    "    shap_values = fcm_ex.shap_values(shapdf)\n",
    "    ave_shap_values_kmeans = np.zeros(shap_values.shape[1])\n",
    "    ave_shap_values_kmeans += np.mean(np.absolute(shap_values), axis=0)\n",
    "\n",
    "    # Dataframe with importance scores\n",
    "    pbfi_df = pd.DataFrame(columns=['features','PFBI FuzzyCMeans',\"SHAP FuzzyCMeans\", \"PFBI KMeans\", \"SHAP KMeans\", \"PFBI Spectral\", \"SHAP Spectral\"])\n",
    "    pbfi_df['features'] = df.columns\n",
    "    pbfi_df['PFBI FuzzyCMeans'] = fcm.f_importance(df.values)\n",
    "    pbfi_df['SHAP FuzzyCMeans'] = ave_shap_values_fcm   \n",
    "    pbfi_df['PFBI KMeans'] = f_importance(kmeans.cluster_centers_, df.values)\n",
    "    pbfi_df['SHAP KMeans'] = ave_shap_values_kmeans\n",
    "    pbfi_df.to_excel(f\"importance_scores_{dataset}.xlsx\")\n",
    "\n",
    "    # Sorting features in order of importance\n",
    "    FuzzyCMeans_labels, KMeans_labels, Shap_labels_fcm, Shap_labels_kmeans = featuresorting(pbfi_df)\n",
    "\n",
    "    # computing the perturbation errors for PFBI KMeans\n",
    "    errors_kmeans = kmeans_performance(df, KMeans_labels, kmeans, y_true_kmeans)\n",
    "    \n",
    "    # Fuzzy C Means\n",
    "    errors_fuzzycmeans = [1.0]\n",
    "    exclude_fuzzycmeans = []\n",
    "\n",
    "    for fi in FuzzyCMeans_labels:\n",
    "\n",
    "        df_temp = df.copy()\n",
    "        exclude_fuzzycmeans.append(fi)\n",
    "\n",
    "        for column in exclude_fuzzycmeans:\n",
    "            df_temp[column] = df_temp[column].mean()\n",
    "\n",
    "        y_pred = np.argmax(fcm.predict(df_temp.values), axis=1)\n",
    "        errors_fuzzycmeans.append(accuracy_score(y_true_fcm, y_pred))\n",
    "\n",
    "    # Shap\n",
    "    errors_shap_fuzzycmeans = [1.0]\n",
    "    exclude_shap = []\n",
    "\n",
    "    # computing the perturbation errors for SHAP FCM\n",
    "    for fi in Shap_labels_fcm:\n",
    "\n",
    "        df_temp = df.copy()\n",
    "        exclude_shap.append(fi)\n",
    "\n",
    "        for column in exclude_shap:\n",
    "            df_temp[column] = df_temp[column].mean()\n",
    "\n",
    "        y_pred = np.argmax(fcm.predict(df_temp.values), axis=1)\n",
    "        errors_shap_fuzzycmeans.append(accuracy_score(y_true_fcm, y_pred))\n",
    "        \n",
    "    # computing the perturbation errors for SHAP KMeans\n",
    "    errors_shap_kmeans = kmeans_performance(df, Shap_labels_kmeans, kmeans, y_true_kmeans)\n",
    "\n",
    "\n",
    "    error_df = pd.DataFrame(columns=['PBFI FuzzyCMeans',\"SHAP FuzzyCMeans\", \"PFBI KMeans\", \"SHAP KMeans\"])\n",
    "    error_df['PFBI FuzzyCMeans'] = errors_fuzzycmeans\n",
    "    error_df['SHAP FuzzyCMeans'] = errors_shap_fuzzycmeans   \n",
    "    error_df['PFBI KMeans'] = errors_kmeans\n",
    "    error_df['SHAP KMeans'] = errors_shap_kmeans\n",
    "    error_df.to_excel(f\"error_scores_{dataset}.xlsx\")\n",
    "\n"
   ]
  },
  {
   "cell_type": "code",
   "execution_count": 1,
   "metadata": {},
   "outputs": [
    {
     "name": "stdout",
     "output_type": "stream",
     "text": [
      "Completed figure 1 out of 2 total\n",
      "Completed figure 2 out of 2 total\n"
     ]
    }
   ],
   "source": [
    "# used for testing purposes for testing smaller subsection of datasets\n",
    "datasets = ['ecoli', 'glass']\n",
    "\n",
    "# The which keyword controls wether to plot both, with keyword \"both\", or only kmeans with keyword \"Kmeans\", or only Fuzzycmeans with keyword \"Fuzzycmeans\"\n",
    "resultplot(datasets, which=\"both\")"
   ]
  }
 ],
 "metadata": {
  "kernelspec": {
   "display_name": "base",
   "language": "python",
   "name": "python3"
  },
  "language_info": {
   "codemirror_mode": {
    "name": "ipython",
    "version": 3
   },
   "file_extension": ".py",
   "mimetype": "text/x-python",
   "name": "python",
   "nbconvert_exporter": "python",
   "pygments_lexer": "ipython3",
   "version": "3.9.13"
  },
  "orig_nbformat": 4,
  "vscode": {
   "interpreter": {
    "hash": "6f6be9bf8774dc8555f51a250061afeaf506b7105df937534e2c73389fd11a68"
   }
  }
 },
 "nbformat": 4,
 "nbformat_minor": 2
}
